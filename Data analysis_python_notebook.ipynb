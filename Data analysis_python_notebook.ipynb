{
 "cells": [
  {
   "cell_type": "markdown",
   "metadata": {},
   "source": [
    " # **Evaluating cyber security awareness of IT employees**\n",
    "\n",
    "`Survey results obtained through Google forms Questionnaire:`\n",
    "\n",
    "`Data source: https://forms.gle/GyEDL4FhExs6GxEz6`\n",
    "\n",
    "- How old are you?\t\n",
    "- How many years of experience do you have in the IT industry? \t\n",
    "- Choose your industry domain of work? \t\n",
    "- Which device(laptop/desktop) are you using to work?\t\n",
    "- Select all commonly used security tools, activities, and applications that are applicable on your working device. (Tick all that apply)\n",
    "- How secure do you feel your working devices are?\t\n",
    "- I change the passwords of important accounts frequently.\t\n",
    "- I create a password that contains my personal information (e.g. name, date of birth, nickname)\t \n",
    "- I check the legitimacy of a website before accessing it\t\n",
    "- I am careful about clicking on links in an email, pop-up screens, advertisements on web pages, or social media posts.\t\n",
    "- I manually lock my computer screen when I step away from it.\t\n",
    "- If I discover a security problem such as phishing mail, identity theft, malware etc:\t\n",
    "- I attend security awareness programs conducted by my organization \t\n",
    "- I always follow the information security policies (ISP) of my organization. (such as data disclosure, desktop security, etc)\t\n",
    "- How do you keep yourself updated about cyberattacks/cybersecurity? (Tick all that apply)\t\n",
    "- The IT employees have a major impact on an organization's cyber security.\t\n",
    "- I believe the cyber security awareness of my colleagues/friends affects my cyber security awareness too.\t\n",
    "- I am concerned that my working environment is not secure enough against cyber attacks.\t\n",
    "- I feel that the risk of becoming a victim of cybercrime has increased in the past years.\t\n",
    "- I believe that the ISPs (Information Security Policies) of my organization are effective in managing cybersecurity.\t\n",
    "- I feel my organization is good at providing cyber security awareness to employees.\t\n",
    "- I am willing to accept increased Internet surveillance from my organization if it can enhance Internet security\t\n",
    "- Have you ever come across security breaches such as phishing emails, identity theft, malware, etc?\t\n",
    "- If Yes, How did you solve it? (select all that apply)\n"
   ]
  },
  {
   "cell_type": "code",
   "execution_count": 1,
   "metadata": {},
   "outputs": [],
   "source": [
    "# step 1:  Importing all required libraries\n",
    "import pandas as pd\n",
    "import numpy as np\n",
    "\n",
    "from sklearn.impute import SimpleImputer\n",
    "import joypy as jp\n",
    "import matplotlib\n",
    "import matplotlib.pyplot as plt \n",
    "import seaborn as sns\n",
    "%matplotlib inline\n",
    "from sklearn.model_selection import GridSearchCV\n",
    "from sklearn.svm import SVC\n",
    "\n",
    "from sklearn.preprocessing import StandardScaler\n",
    "from sklearn.decomposition import PCA\n",
    "\n",
    "RSEED = 8"
   ]
  },
  {
   "cell_type": "markdown",
   "metadata": {},
   "source": [
    "## **`Step 1: Loading the data.`**"
   ]
  },
  {
   "cell_type": "code",
   "execution_count": 2,
   "metadata": {},
   "outputs": [],
   "source": [
    "# reading the csv file\n",
    "dataset = pd.read_csv(\"Evaluating cyber security awareness of IT employees.csv\", sep=\";\", header=0, skipinitialspace = True)"
   ]
  },
  {
   "cell_type": "code",
   "execution_count": 3,
   "metadata": {},
   "outputs": [
    {
     "data": {
      "text/plain": [
       "((117, 25), pandas.core.frame.DataFrame)"
      ]
     },
     "execution_count": 3,
     "metadata": {},
     "output_type": "execute_result"
    }
   ],
   "source": [
    "((dataset.shape),(type(dataset)))"
   ]
  },
  {
   "cell_type": "code",
   "execution_count": 4,
   "metadata": {},
   "outputs": [],
   "source": [
    "# delete column 'timestamp' as it is no longer required\n",
    "dataset.drop('Timestamp', inplace=True, axis=1)"
   ]
  },
  {
   "cell_type": "code",
   "execution_count": 5,
   "metadata": {},
   "outputs": [
    {
     "data": {
      "text/html": [
       "<div>\n",
       "<style scoped>\n",
       "    .dataframe tbody tr th:only-of-type {\n",
       "        vertical-align: middle;\n",
       "    }\n",
       "\n",
       "    .dataframe tbody tr th {\n",
       "        vertical-align: top;\n",
       "    }\n",
       "\n",
       "    .dataframe thead th {\n",
       "        text-align: right;\n",
       "    }\n",
       "</style>\n",
       "<table border=\"1\" class=\"dataframe\">\n",
       "  <thead>\n",
       "    <tr style=\"text-align: right;\">\n",
       "      <th></th>\n",
       "      <th>How old are you?</th>\n",
       "      <th>How many years of experience do you have in the IT industry?</th>\n",
       "      <th>Choose your industry domain of work?</th>\n",
       "      <th>Which device(laptop/desktop) are you using to work?</th>\n",
       "      <th>Select all commonly used security tools, activities, and applications that are applicable on your working device. (Tick all that apply)</th>\n",
       "      <th>How secure do you feel your working devices are?</th>\n",
       "      <th>I change the passwords of important accounts frequently.</th>\n",
       "      <th>I create a password that contains my personal information (e.g. name, date of birth, nickname)</th>\n",
       "      <th>I check the legitimacy of a website before accessing it</th>\n",
       "      <th>I am careful about clicking on links in an email, pop-up screens, advertisements on web pages, or social media posts.</th>\n",
       "      <th>...</th>\n",
       "      <th>How do you keep yourself updated about cyberattacks/cybersecurity? (Tick all that apply)</th>\n",
       "      <th>The IT employees have a major impact on an organization's cyber security.</th>\n",
       "      <th>I believe the cyber security awareness of my colleagues/friends affects my cyber security awareness too.</th>\n",
       "      <th>I am concerned that my working environment is not secure enough against cyber attacks.</th>\n",
       "      <th>I feel that the risk of becoming a victim of cybercrime has increased in the past years.</th>\n",
       "      <th>I believe that the ISPs (Information Security Policies) of my organization are effective in managing cybersecurity.</th>\n",
       "      <th>I feel my organization is good at providing cyber security awareness to employees.</th>\n",
       "      <th>I am willing to accept increased Internet surveillance from my organization if it can enhance Internet security</th>\n",
       "      <th>Have you ever come across security breaches such as phishing emails, identity theft, malware, etc?</th>\n",
       "      <th>If Yes, How did you solve it? (select all that apply)</th>\n",
       "    </tr>\n",
       "  </thead>\n",
       "  <tbody>\n",
       "    <tr>\n",
       "      <th>0</th>\n",
       "      <td>20 - 25 y.o</td>\n",
       "      <td>0 - 3 years</td>\n",
       "      <td>Banking, Finance Services and Insurance.</td>\n",
       "      <td>Company provided device</td>\n",
       "      <td>Anti-virus, Authentication (eg. Passwords,PIN)...</td>\n",
       "      <td>Somewhat secure</td>\n",
       "      <td>Often</td>\n",
       "      <td>Often</td>\n",
       "      <td>Sometimes</td>\n",
       "      <td>Often</td>\n",
       "      <td>...</td>\n",
       "      <td>Internet, website, email bulletins, blogs, etc...</td>\n",
       "      <td>Strongly Agree</td>\n",
       "      <td>Agree</td>\n",
       "      <td>Agree</td>\n",
       "      <td>Agree</td>\n",
       "      <td>Agree partially</td>\n",
       "      <td>Agree partially</td>\n",
       "      <td>Strongly Agree</td>\n",
       "      <td>Yes</td>\n",
       "      <td>I fixed the problem by myself</td>\n",
       "    </tr>\n",
       "    <tr>\n",
       "      <th>1</th>\n",
       "      <td>31 - 35 y.o</td>\n",
       "      <td>10 - 15 years</td>\n",
       "      <td>Transportation &amp; Communication</td>\n",
       "      <td>Company provided device</td>\n",
       "      <td>Anti-virus, Authentication (eg. Passwords,PIN)...</td>\n",
       "      <td>Very Secure</td>\n",
       "      <td>Often</td>\n",
       "      <td>Sometimes</td>\n",
       "      <td>Often</td>\n",
       "      <td>Always</td>\n",
       "      <td>...</td>\n",
       "      <td>Internet, website, email bulletins, blogs, etc...</td>\n",
       "      <td>Strongly Agree</td>\n",
       "      <td>Agree</td>\n",
       "      <td>Disagree</td>\n",
       "      <td>Agree</td>\n",
       "      <td>Agree partially</td>\n",
       "      <td>Agree partially</td>\n",
       "      <td>Agree partially</td>\n",
       "      <td>Yes</td>\n",
       "      <td>I reported it to authorised authority like IT ...</td>\n",
       "    </tr>\n",
       "  </tbody>\n",
       "</table>\n",
       "<p>2 rows × 24 columns</p>\n",
       "</div>"
      ],
      "text/plain": [
       "  How old are you?  \\\n",
       "0      20 - 25 y.o   \n",
       "1      31 - 35 y.o   \n",
       "\n",
       "  How many years of experience do you have in the IT industry?   \\\n",
       "0                                        0 - 3 years              \n",
       "1                                      10 - 15 years              \n",
       "\n",
       "      Choose your industry domain of work?   \\\n",
       "0  Banking, Finance Services and Insurance.   \n",
       "1            Transportation & Communication   \n",
       "\n",
       "  Which device(laptop/desktop) are you using to work?  \\\n",
       "0                            Company provided device    \n",
       "1                            Company provided device    \n",
       "\n",
       "  Select all commonly used security tools, activities, and applications that are applicable on your working device. (Tick all that apply)  \\\n",
       "0  Anti-virus, Authentication (eg. Passwords,PIN)...                                                                                        \n",
       "1  Anti-virus, Authentication (eg. Passwords,PIN)...                                                                                        \n",
       "\n",
       "  How secure do you feel your working devices are?  \\\n",
       "0                                  Somewhat secure   \n",
       "1                                      Very Secure   \n",
       "\n",
       "  I change the passwords of important accounts frequently.  \\\n",
       "0                                              Often         \n",
       "1                                              Often         \n",
       "\n",
       "  I create a password that contains my personal information (e.g. name, date of birth, nickname)  \\\n",
       "0                                              Often                                               \n",
       "1                                          Sometimes                                               \n",
       "\n",
       "  I check the legitimacy of a website before accessing it  \\\n",
       "0                                          Sometimes        \n",
       "1                                              Often        \n",
       "\n",
       "  I am careful about clicking on links in an email, pop-up screens, advertisements on web pages, or social media posts.  \\\n",
       "0                                              Often                                                                      \n",
       "1                                             Always                                                                      \n",
       "\n",
       "   ...  \\\n",
       "0  ...   \n",
       "1  ...   \n",
       "\n",
       "  How do you keep yourself updated about cyberattacks/cybersecurity? (Tick all that apply)  \\\n",
       "0  Internet, website, email bulletins, blogs, etc...                                         \n",
       "1  Internet, website, email bulletins, blogs, etc...                                         \n",
       "\n",
       "  The IT employees have a major impact on an organization's cyber security.  \\\n",
       "0                                     Strongly Agree                          \n",
       "1                                     Strongly Agree                          \n",
       "\n",
       "  I believe the cyber security awareness of my colleagues/friends affects my cyber security awareness too.  \\\n",
       "0                                              Agree                                                         \n",
       "1                                              Agree                                                         \n",
       "\n",
       "  I am concerned that my working environment is not secure enough against cyber attacks.  \\\n",
       "0                                              Agree                                       \n",
       "1                                           Disagree                                       \n",
       "\n",
       "  I feel that the risk of becoming a victim of cybercrime has increased in the past years.  \\\n",
       "0                                              Agree                                         \n",
       "1                                              Agree                                         \n",
       "\n",
       "  I believe that the ISPs (Information Security Policies) of my organization are effective in managing cybersecurity.  \\\n",
       "0                                    Agree partially                                                                    \n",
       "1                                    Agree partially                                                                    \n",
       "\n",
       "  I feel my organization is good at providing cyber security awareness to employees.  \\\n",
       "0                                    Agree partially                                   \n",
       "1                                    Agree partially                                   \n",
       "\n",
       "  I am willing to accept increased Internet surveillance from my organization if it can enhance Internet security  \\\n",
       "0                                     Strongly Agree                                                                \n",
       "1                                    Agree partially                                                                \n",
       "\n",
       "  Have you ever come across security breaches such as phishing emails, identity theft, malware, etc?  \\\n",
       "0                                                Yes                                                   \n",
       "1                                                Yes                                                   \n",
       "\n",
       "  If Yes, How did you solve it? (select all that apply)  \n",
       "0                      I fixed the problem by myself     \n",
       "1  I reported it to authorised authority like IT ...     \n",
       "\n",
       "[2 rows x 24 columns]"
      ]
     },
     "execution_count": 5,
     "metadata": {},
     "output_type": "execute_result"
    }
   ],
   "source": [
    "dataset.head(2)"
   ]
  },
  {
   "cell_type": "markdown",
   "metadata": {},
   "source": [
    "## **`Step 2: Data Preprocessing.`**"
   ]
  },
  {
   "cell_type": "markdown",
   "metadata": {},
   "source": [
    "### **2a: Renaming the column names**"
   ]
  },
  {
   "cell_type": "code",
   "execution_count": 6,
   "metadata": {},
   "outputs": [
    {
     "data": {
      "text/plain": [
       "Index(['How old are you?',\n",
       "       'How many years of experience do you have in the IT industry? ',\n",
       "       'Choose your industry domain of work? ',\n",
       "       'Which device(laptop/desktop) are you using to work?',\n",
       "       'Select all commonly used security tools, activities, and applications that are applicable on your working device. (Tick all that apply)',\n",
       "       'How secure do you feel your working devices are?',\n",
       "       'I change the passwords of important accounts frequently.',\n",
       "       'I create a password that contains my personal information (e.g. name, date of birth, nickname)',\n",
       "       'I check the legitimacy of a website before accessing it',\n",
       "       'I am careful about clicking on links in an email, pop-up screens, advertisements on web pages, or social media posts.',\n",
       "       'I manually lock my computer screen when I step away from it.',\n",
       "       'If I discover a security problem such as phishing mail, identity theft, malware etc:',\n",
       "       'I attend security awareness programs conducted by my organization ',\n",
       "       'I always follow the information security policies (ISP) of my organization. (such as data disclosure, desktop security, etc)',\n",
       "       'How do you keep yourself updated about cyberattacks/cybersecurity? (Tick all that apply)',\n",
       "       'The IT employees have a major impact on an organization's cyber security.',\n",
       "       'I believe the cyber security awareness of my colleagues/friends affects my cyber security awareness too.',\n",
       "       'I am concerned that my working environment is not secure enough against cyber attacks.',\n",
       "       'I feel that the risk of becoming a victim of cybercrime has increased in the past years.',\n",
       "       'I believe that the ISPs (Information Security Policies) of my organization are effective in managing cybersecurity.',\n",
       "       'I feel my organization is good at providing cyber security awareness to employees.',\n",
       "       'I am willing to accept increased Internet surveillance from my organization if it can enhance Internet security',\n",
       "       'Have you ever come across security breaches such as phishing emails, identity theft, malware, etc?',\n",
       "       'If Yes, How did you solve it? (select all that apply)'],\n",
       "      dtype='object')"
      ]
     },
     "execution_count": 6,
     "metadata": {},
     "output_type": "execute_result"
    }
   ],
   "source": [
    "dataset.columns"
   ]
  },
  {
   "cell_type": "code",
   "execution_count": 7,
   "metadata": {},
   "outputs": [],
   "source": [
    "# Rename the columns\n",
    "column_list = ['Age', 'Experience', 'industry', 'device_type', 'security_tools','device_security','chg_pwd_frequency','weak_pwd','legitimacy_chk',\n",
    "                'carefulness_while_browsing','lock_screen_while_away', 'future_response_to_attack', 'attend_security_awarness', 'follow_ISP', 'awarness_resources',\n",
    "                'Employees_impact','Peer_behavior_impact', 'unsecure_work_envrmnt', 'risk_awarness', 'ISP_efficacy', 'organizations_impact', \n",
    "                'accept_orgzatns_intrnt_surveillance', 'previous_experience', 'response_to_attack']\n",
    "dataset.columns = column_list"
   ]
  },
  {
   "cell_type": "code",
   "execution_count": 8,
   "metadata": {},
   "outputs": [
    {
     "data": {
      "text/html": [
       "<div>\n",
       "<style scoped>\n",
       "    .dataframe tbody tr th:only-of-type {\n",
       "        vertical-align: middle;\n",
       "    }\n",
       "\n",
       "    .dataframe tbody tr th {\n",
       "        vertical-align: top;\n",
       "    }\n",
       "\n",
       "    .dataframe thead th {\n",
       "        text-align: right;\n",
       "    }\n",
       "</style>\n",
       "<table border=\"1\" class=\"dataframe\">\n",
       "  <thead>\n",
       "    <tr style=\"text-align: right;\">\n",
       "      <th></th>\n",
       "      <th>Age</th>\n",
       "      <th>Experience</th>\n",
       "      <th>industry</th>\n",
       "      <th>device_type</th>\n",
       "      <th>security_tools</th>\n",
       "      <th>device_security</th>\n",
       "      <th>chg_pwd_frequency</th>\n",
       "      <th>weak_pwd</th>\n",
       "      <th>legitimacy_chk</th>\n",
       "      <th>carefulness_while_browsing</th>\n",
       "      <th>...</th>\n",
       "      <th>awarness_resources</th>\n",
       "      <th>Employees_impact</th>\n",
       "      <th>Peer_behavior_impact</th>\n",
       "      <th>unsecure_work_envrmnt</th>\n",
       "      <th>risk_awarness</th>\n",
       "      <th>ISP_efficacy</th>\n",
       "      <th>organizations_impact</th>\n",
       "      <th>accept_orgzatns_intrnt_surveillance</th>\n",
       "      <th>previous_experience</th>\n",
       "      <th>response_to_attack</th>\n",
       "    </tr>\n",
       "  </thead>\n",
       "  <tbody>\n",
       "    <tr>\n",
       "      <th>0</th>\n",
       "      <td>20 - 25 y.o</td>\n",
       "      <td>0 - 3 years</td>\n",
       "      <td>Banking, Finance Services and Insurance.</td>\n",
       "      <td>Company provided device</td>\n",
       "      <td>Anti-virus, Authentication (eg. Passwords,PIN)...</td>\n",
       "      <td>Somewhat secure</td>\n",
       "      <td>Often</td>\n",
       "      <td>Often</td>\n",
       "      <td>Sometimes</td>\n",
       "      <td>Often</td>\n",
       "      <td>...</td>\n",
       "      <td>Internet, website, email bulletins, blogs, etc...</td>\n",
       "      <td>Strongly Agree</td>\n",
       "      <td>Agree</td>\n",
       "      <td>Agree</td>\n",
       "      <td>Agree</td>\n",
       "      <td>Agree partially</td>\n",
       "      <td>Agree partially</td>\n",
       "      <td>Strongly Agree</td>\n",
       "      <td>Yes</td>\n",
       "      <td>I fixed the problem by myself</td>\n",
       "    </tr>\n",
       "    <tr>\n",
       "      <th>1</th>\n",
       "      <td>31 - 35 y.o</td>\n",
       "      <td>10 - 15 years</td>\n",
       "      <td>Transportation &amp; Communication</td>\n",
       "      <td>Company provided device</td>\n",
       "      <td>Anti-virus, Authentication (eg. Passwords,PIN)...</td>\n",
       "      <td>Very Secure</td>\n",
       "      <td>Often</td>\n",
       "      <td>Sometimes</td>\n",
       "      <td>Often</td>\n",
       "      <td>Always</td>\n",
       "      <td>...</td>\n",
       "      <td>Internet, website, email bulletins, blogs, etc...</td>\n",
       "      <td>Strongly Agree</td>\n",
       "      <td>Agree</td>\n",
       "      <td>Disagree</td>\n",
       "      <td>Agree</td>\n",
       "      <td>Agree partially</td>\n",
       "      <td>Agree partially</td>\n",
       "      <td>Agree partially</td>\n",
       "      <td>Yes</td>\n",
       "      <td>I reported it to authorised authority like IT ...</td>\n",
       "    </tr>\n",
       "    <tr>\n",
       "      <th>2</th>\n",
       "      <td>26 - 30 y.o</td>\n",
       "      <td>4 - 9 years</td>\n",
       "      <td>Banking, Finance Services and Insurance.</td>\n",
       "      <td>Company provided device</td>\n",
       "      <td>Authentication (eg. Passwords,PIN), Encryption...</td>\n",
       "      <td>Somewhat insecure</td>\n",
       "      <td>Never</td>\n",
       "      <td>Never</td>\n",
       "      <td>Often</td>\n",
       "      <td>Always</td>\n",
       "      <td>...</td>\n",
       "      <td>Internet, website, email bulletins, blogs, etc...</td>\n",
       "      <td>Agree</td>\n",
       "      <td>Strongly Agree</td>\n",
       "      <td>Strongly Disagree</td>\n",
       "      <td>Strongly Agree</td>\n",
       "      <td>Strongly Agree</td>\n",
       "      <td>Strongly Agree</td>\n",
       "      <td>Strongly Disagree</td>\n",
       "      <td>Yes</td>\n",
       "      <td>I reported it to authorised authority like IT ...</td>\n",
       "    </tr>\n",
       "  </tbody>\n",
       "</table>\n",
       "<p>3 rows × 24 columns</p>\n",
       "</div>"
      ],
      "text/plain": [
       "           Age     Experience                                  industry  \\\n",
       "0  20 - 25 y.o    0 - 3 years  Banking, Finance Services and Insurance.   \n",
       "1  31 - 35 y.o  10 - 15 years            Transportation & Communication   \n",
       "2  26 - 30 y.o    4 - 9 years  Banking, Finance Services and Insurance.   \n",
       "\n",
       "               device_type                                     security_tools  \\\n",
       "0  Company provided device  Anti-virus, Authentication (eg. Passwords,PIN)...   \n",
       "1  Company provided device  Anti-virus, Authentication (eg. Passwords,PIN)...   \n",
       "2  Company provided device  Authentication (eg. Passwords,PIN), Encryption...   \n",
       "\n",
       "     device_security chg_pwd_frequency   weak_pwd legitimacy_chk  \\\n",
       "0    Somewhat secure             Often      Often      Sometimes   \n",
       "1        Very Secure             Often  Sometimes          Often   \n",
       "2  Somewhat insecure             Never      Never          Often   \n",
       "\n",
       "  carefulness_while_browsing  ...  \\\n",
       "0                      Often  ...   \n",
       "1                     Always  ...   \n",
       "2                     Always  ...   \n",
       "\n",
       "                                  awarness_resources Employees_impact  \\\n",
       "0  Internet, website, email bulletins, blogs, etc...   Strongly Agree   \n",
       "1  Internet, website, email bulletins, blogs, etc...   Strongly Agree   \n",
       "2  Internet, website, email bulletins, blogs, etc...            Agree   \n",
       "\n",
       "  Peer_behavior_impact unsecure_work_envrmnt   risk_awarness     ISP_efficacy  \\\n",
       "0                Agree                 Agree           Agree  Agree partially   \n",
       "1                Agree              Disagree           Agree  Agree partially   \n",
       "2       Strongly Agree     Strongly Disagree  Strongly Agree   Strongly Agree   \n",
       "\n",
       "  organizations_impact accept_orgzatns_intrnt_surveillance  \\\n",
       "0      Agree partially                      Strongly Agree   \n",
       "1      Agree partially                     Agree partially   \n",
       "2       Strongly Agree                   Strongly Disagree   \n",
       "\n",
       "  previous_experience                                 response_to_attack  \n",
       "0                 Yes                      I fixed the problem by myself  \n",
       "1                 Yes  I reported it to authorised authority like IT ...  \n",
       "2                 Yes  I reported it to authorised authority like IT ...  \n",
       "\n",
       "[3 rows x 24 columns]"
      ]
     },
     "execution_count": 8,
     "metadata": {},
     "output_type": "execute_result"
    }
   ],
   "source": [
    "dataset.head(3)"
   ]
  },
  {
   "cell_type": "markdown",
   "metadata": {},
   "source": [
    "### **2b: Redefining the column type**"
   ]
  },
  {
   "cell_type": "code",
   "execution_count": 9,
   "metadata": {},
   "outputs": [],
   "source": [
    "dataset[\"Age\"] = dataset[\"Age\"].astype('category')\n",
    "dataset[\"Experience\"] = dataset[\"Experience\"].astype('category')\n",
    "dataset[\"industry\"] = dataset[\"industry\"].astype('category')\n",
    "dataset[\"device_type\"] = dataset[\"device_type\"].astype('category')\n",
    "dataset[\"security_tools\"] = dataset[\"security_tools\"].astype(str)\n",
    "dataset[\"device_security\"] = dataset[\"device_security\"].astype('category')\n",
    "dataset[\"chg_pwd_frequency\"] = dataset[\"chg_pwd_frequency\"].astype('category')\n",
    "dataset[\"weak_pwd\"] = dataset[\"weak_pwd\"].astype('category')\n",
    "dataset[\"legitimacy_chk\"] = dataset[\"legitimacy_chk\"].astype('category')\n",
    "dataset[\"carefulness_while_browsing\"] = dataset[\"carefulness_while_browsing\"].astype('category')\n",
    "dataset[\"lock_screen_while_away\"] = dataset[\"lock_screen_while_away\"].astype('category')\n",
    "dataset[\"future_response_to_attack\"] = dataset[\"future_response_to_attack\"].astype(str)\n",
    "dataset[\"attend_security_awarness\"] = dataset[\"attend_security_awarness\"].astype('category')\n",
    "dataset[\"follow_ISP\"] = dataset[\"follow_ISP\"].astype('category')\n",
    "dataset[\"awarness_resources\"] = dataset[\"awarness_resources\"].astype(str)\n",
    "dataset[\"Employees_impact\"] = dataset[\"Employees_impact\"].astype('category')\n",
    "dataset[\"Peer_behavior_impact\"] = dataset[\"Peer_behavior_impact\"].astype('category')\n",
    "dataset[\"unsecure_work_envrmnt\"] = dataset[\"unsecure_work_envrmnt\"].astype('category')\n",
    "dataset[\"risk_awarness\"] = dataset[\"risk_awarness\"].astype('category')\n",
    "dataset[\"ISP_efficacy\"] = dataset[\"ISP_efficacy\"].astype('category')\n",
    "dataset[\"organizations_impact\"] = dataset[\"organizations_impact\"].astype('category')\n",
    "dataset[\"accept_orgzatns_intrnt_surveillance\"] = dataset[\"accept_orgzatns_intrnt_surveillance\"].astype('category')\n",
    "dataset[\"previous_experience\"] = dataset[\"previous_experience\"].astype('category')\n",
    "dataset[\"response_to_attack\"] = dataset[\"response_to_attack\"].astype(str)"
   ]
  },
  {
   "cell_type": "code",
   "execution_count": 10,
   "metadata": {},
   "outputs": [
    {
     "name": "stdout",
     "output_type": "stream",
     "text": [
      "<class 'pandas.core.frame.DataFrame'>\n",
      "RangeIndex: 117 entries, 0 to 116\n",
      "Data columns (total 24 columns):\n",
      " #   Column                               Non-Null Count  Dtype   \n",
      "---  ------                               --------------  -----   \n",
      " 0   Age                                  117 non-null    category\n",
      " 1   Experience                           117 non-null    category\n",
      " 2   industry                             117 non-null    category\n",
      " 3   device_type                          117 non-null    category\n",
      " 4   security_tools                       117 non-null    object  \n",
      " 5   device_security                      117 non-null    category\n",
      " 6   chg_pwd_frequency                    117 non-null    category\n",
      " 7   weak_pwd                             117 non-null    category\n",
      " 8   legitimacy_chk                       117 non-null    category\n",
      " 9   carefulness_while_browsing           117 non-null    category\n",
      " 10  lock_screen_while_away               117 non-null    category\n",
      " 11  future_response_to_attack            117 non-null    object  \n",
      " 12  attend_security_awarness             117 non-null    category\n",
      " 13  follow_ISP                           117 non-null    category\n",
      " 14  awarness_resources                   117 non-null    object  \n",
      " 15  Employees_impact                     117 non-null    category\n",
      " 16  Peer_behavior_impact                 117 non-null    category\n",
      " 17  unsecure_work_envrmnt                117 non-null    category\n",
      " 18  risk_awarness                        117 non-null    category\n",
      " 19  ISP_efficacy                         117 non-null    category\n",
      " 20  organizations_impact                 117 non-null    category\n",
      " 21  accept_orgzatns_intrnt_surveillance  117 non-null    category\n",
      " 22  previous_experience                  117 non-null    category\n",
      " 23  response_to_attack                   117 non-null    object  \n",
      "dtypes: category(20), object(4)\n",
      "memory usage: 10.0+ KB\n"
     ]
    }
   ],
   "source": [
    "dataset.info()"
   ]
  },
  {
   "cell_type": "markdown",
   "metadata": {},
   "source": [
    "## **`Step 2: Data Imputation.`**"
   ]
  },
  {
   "cell_type": "markdown",
   "metadata": {},
   "source": [
    "### **3a: replacing 'nan' value with 'NA'**"
   ]
  },
  {
   "cell_type": "code",
   "execution_count": 11,
   "metadata": {},
   "outputs": [
    {
     "data": {
      "text/plain": [
       "Age                                     0\n",
       "Experience                              0\n",
       "industry                                0\n",
       "device_type                             0\n",
       "security_tools                          0\n",
       "device_security                         0\n",
       "chg_pwd_frequency                       0\n",
       "weak_pwd                                0\n",
       "legitimacy_chk                          0\n",
       "carefulness_while_browsing              0\n",
       "lock_screen_while_away                  0\n",
       "future_response_to_attack               0\n",
       "attend_security_awarness                0\n",
       "follow_ISP                              0\n",
       "awarness_resources                      0\n",
       "Employees_impact                        0\n",
       "Peer_behavior_impact                    0\n",
       "unsecure_work_envrmnt                   0\n",
       "risk_awarness                           0\n",
       "ISP_efficacy                            0\n",
       "organizations_impact                    0\n",
       "accept_orgzatns_intrnt_surveillance     0\n",
       "previous_experience                     0\n",
       "response_to_attack                     32\n",
       "dtype: int64"
      ]
     },
     "execution_count": 11,
     "metadata": {},
     "output_type": "execute_result"
    }
   ],
   "source": [
    "(dataset == \"nan\").sum()"
   ]
  },
  {
   "cell_type": "code",
   "execution_count": 12,
   "metadata": {},
   "outputs": [],
   "source": [
    "# Data imputation --> added value 0 for missing values\n",
    "dataset.replace(to_replace = 'nan', value = 'NA', inplace = True)\n",
    "data_imputed = pd.DataFrame(dataset)"
   ]
  },
  {
   "cell_type": "code",
   "execution_count": 13,
   "metadata": {},
   "outputs": [
    {
     "data": {
      "text/plain": [
       "Age                                    0\n",
       "Experience                             0\n",
       "industry                               0\n",
       "device_type                            0\n",
       "security_tools                         0\n",
       "device_security                        0\n",
       "chg_pwd_frequency                      0\n",
       "weak_pwd                               0\n",
       "legitimacy_chk                         0\n",
       "carefulness_while_browsing             0\n",
       "lock_screen_while_away                 0\n",
       "future_response_to_attack              0\n",
       "attend_security_awarness               0\n",
       "follow_ISP                             0\n",
       "awarness_resources                     0\n",
       "Employees_impact                       0\n",
       "Peer_behavior_impact                   0\n",
       "unsecure_work_envrmnt                  0\n",
       "risk_awarness                          0\n",
       "ISP_efficacy                           0\n",
       "organizations_impact                   0\n",
       "accept_orgzatns_intrnt_surveillance    0\n",
       "previous_experience                    0\n",
       "response_to_attack                     0\n",
       "dtype: int64"
      ]
     },
     "execution_count": 13,
     "metadata": {},
     "output_type": "execute_result"
    }
   ],
   "source": [
    "(dataset == \"nan\").sum()"
   ]
  },
  {
   "cell_type": "code",
   "execution_count": 14,
   "metadata": {},
   "outputs": [
    {
     "data": {
      "text/html": [
       "<div>\n",
       "<style scoped>\n",
       "    .dataframe tbody tr th:only-of-type {\n",
       "        vertical-align: middle;\n",
       "    }\n",
       "\n",
       "    .dataframe tbody tr th {\n",
       "        vertical-align: top;\n",
       "    }\n",
       "\n",
       "    .dataframe thead th {\n",
       "        text-align: right;\n",
       "    }\n",
       "</style>\n",
       "<table border=\"1\" class=\"dataframe\">\n",
       "  <thead>\n",
       "    <tr style=\"text-align: right;\">\n",
       "      <th></th>\n",
       "      <th>Age</th>\n",
       "      <th>Experience</th>\n",
       "      <th>industry</th>\n",
       "      <th>device_type</th>\n",
       "      <th>security_tools</th>\n",
       "      <th>device_security</th>\n",
       "      <th>chg_pwd_frequency</th>\n",
       "      <th>weak_pwd</th>\n",
       "      <th>legitimacy_chk</th>\n",
       "      <th>carefulness_while_browsing</th>\n",
       "      <th>...</th>\n",
       "      <th>awarness_resources</th>\n",
       "      <th>Employees_impact</th>\n",
       "      <th>Peer_behavior_impact</th>\n",
       "      <th>unsecure_work_envrmnt</th>\n",
       "      <th>risk_awarness</th>\n",
       "      <th>ISP_efficacy</th>\n",
       "      <th>organizations_impact</th>\n",
       "      <th>accept_orgzatns_intrnt_surveillance</th>\n",
       "      <th>previous_experience</th>\n",
       "      <th>response_to_attack</th>\n",
       "    </tr>\n",
       "  </thead>\n",
       "  <tbody>\n",
       "    <tr>\n",
       "      <th>0</th>\n",
       "      <td>20 - 25 y.o</td>\n",
       "      <td>0 - 3 years</td>\n",
       "      <td>Banking, Finance Services and Insurance.</td>\n",
       "      <td>Company provided device</td>\n",
       "      <td>Anti-virus, Authentication (eg. Passwords,PIN)...</td>\n",
       "      <td>Somewhat secure</td>\n",
       "      <td>Often</td>\n",
       "      <td>Often</td>\n",
       "      <td>Sometimes</td>\n",
       "      <td>Often</td>\n",
       "      <td>...</td>\n",
       "      <td>Internet, website, email bulletins, blogs, etc...</td>\n",
       "      <td>Strongly Agree</td>\n",
       "      <td>Agree</td>\n",
       "      <td>Agree</td>\n",
       "      <td>Agree</td>\n",
       "      <td>Agree partially</td>\n",
       "      <td>Agree partially</td>\n",
       "      <td>Strongly Agree</td>\n",
       "      <td>Yes</td>\n",
       "      <td>I fixed the problem by myself</td>\n",
       "    </tr>\n",
       "    <tr>\n",
       "      <th>1</th>\n",
       "      <td>31 - 35 y.o</td>\n",
       "      <td>10 - 15 years</td>\n",
       "      <td>Transportation &amp; Communication</td>\n",
       "      <td>Company provided device</td>\n",
       "      <td>Anti-virus, Authentication (eg. Passwords,PIN)...</td>\n",
       "      <td>Very Secure</td>\n",
       "      <td>Often</td>\n",
       "      <td>Sometimes</td>\n",
       "      <td>Often</td>\n",
       "      <td>Always</td>\n",
       "      <td>...</td>\n",
       "      <td>Internet, website, email bulletins, blogs, etc...</td>\n",
       "      <td>Strongly Agree</td>\n",
       "      <td>Agree</td>\n",
       "      <td>Disagree</td>\n",
       "      <td>Agree</td>\n",
       "      <td>Agree partially</td>\n",
       "      <td>Agree partially</td>\n",
       "      <td>Agree partially</td>\n",
       "      <td>Yes</td>\n",
       "      <td>I reported it to authorised authority like IT ...</td>\n",
       "    </tr>\n",
       "  </tbody>\n",
       "</table>\n",
       "<p>2 rows × 24 columns</p>\n",
       "</div>"
      ],
      "text/plain": [
       "           Age     Experience                                  industry  \\\n",
       "0  20 - 25 y.o    0 - 3 years  Banking, Finance Services and Insurance.   \n",
       "1  31 - 35 y.o  10 - 15 years            Transportation & Communication   \n",
       "\n",
       "               device_type                                     security_tools  \\\n",
       "0  Company provided device  Anti-virus, Authentication (eg. Passwords,PIN)...   \n",
       "1  Company provided device  Anti-virus, Authentication (eg. Passwords,PIN)...   \n",
       "\n",
       "   device_security chg_pwd_frequency   weak_pwd legitimacy_chk  \\\n",
       "0  Somewhat secure             Often      Often      Sometimes   \n",
       "1      Very Secure             Often  Sometimes          Often   \n",
       "\n",
       "  carefulness_while_browsing  ...  \\\n",
       "0                      Often  ...   \n",
       "1                     Always  ...   \n",
       "\n",
       "                                  awarness_resources Employees_impact  \\\n",
       "0  Internet, website, email bulletins, blogs, etc...   Strongly Agree   \n",
       "1  Internet, website, email bulletins, blogs, etc...   Strongly Agree   \n",
       "\n",
       "  Peer_behavior_impact unsecure_work_envrmnt risk_awarness     ISP_efficacy  \\\n",
       "0                Agree                 Agree         Agree  Agree partially   \n",
       "1                Agree              Disagree         Agree  Agree partially   \n",
       "\n",
       "  organizations_impact accept_orgzatns_intrnt_surveillance  \\\n",
       "0      Agree partially                      Strongly Agree   \n",
       "1      Agree partially                     Agree partially   \n",
       "\n",
       "  previous_experience                                 response_to_attack  \n",
       "0                 Yes                      I fixed the problem by myself  \n",
       "1                 Yes  I reported it to authorised authority like IT ...  \n",
       "\n",
       "[2 rows x 24 columns]"
      ]
     },
     "execution_count": 14,
     "metadata": {},
     "output_type": "execute_result"
    }
   ],
   "source": [
    "data_imputed.head(2)"
   ]
  },
  {
   "cell_type": "markdown",
   "metadata": {},
   "source": [
    "### **3b: Defining a class label**"
   ]
  },
  {
   "cell_type": "code",
   "execution_count": 15,
   "metadata": {},
   "outputs": [],
   "source": [
    "# # data_imputed[\"monthly rent\"] = data_imputed[\"monthly rent\"].astype('int64')\n",
    "# # rent = data_imputed[\"monthly rent\"]\n",
    "# data_imputed[\"coping_appraisal\"] = data_imputed[\"coping_appraisal\"].astype('category')\n",
    "# label = data_imputed[\"coping_appraisal\"]\n",
    "\n",
    "# conditions = [(((data_imputed['chg_pwd_frequency'] = 'Always') or (data_imputed['chg_pwd_frequency'] = 'Often')) & (data_imputed['weak_pwd'] = 'Never') & (data_imputed['legitimacy_chk'] = 'Always') & (data_imputed['carefulness_while_browsing'] = 'Always')),\n",
    "#     (data_imputed['chg_pwd_frequency'] = 'Often','Sometimes') & (data_imputed['weak_pwd'] = 'Sometimes') & (data_imputed['legitimacy_chk'] = 'Often','Sometimes') & (data_imputed['carefulness_while_browsing'] = 'Often','Sometimes'),\n",
    "#     (data_imputed['chg_pwd_frequency'] = 'Sometimes') & (data_imputed['weak_pwd'] = 'Sometimes') & (data_imputed['legitimacy_chk'] = 'Sometimes') & (data_imputed['carefulness_while_browsing'] = 'Sometimes')]\n",
    "# values = ['High', 'Medium', 'Low']\n",
    "# data_imputed['coping_appraisal'] = np.select(conditions, values)"
   ]
  },
  {
   "cell_type": "markdown",
   "metadata": {},
   "source": [
    "## **`Step 3: Data Visualization.`**"
   ]
  },
  {
   "cell_type": "markdown",
   "metadata": {},
   "source": [
    "A function to add labels to the graph"
   ]
  },
  {
   "cell_type": "code",
   "execution_count": 16,
   "metadata": {},
   "outputs": [],
   "source": [
    "def add_value_labels(ax, spacing=5):\n",
    "    \"\"\"Add labels to the end of each bar in a bar chart.\n",
    "\n",
    "    Arguments:\n",
    "        ax (matplotlib.axes.Axes): The matplotlib object containing the axes\n",
    "            of the plot to annotate.\n",
    "        spacing (int): The distance between the labels and the bars.\n",
    "    \"\"\"\n",
    "\n",
    "    # For each bar: Place a label\n",
    "    for rect in ax.patches:\n",
    "        # Get X and Y placement of label from rect.\n",
    "        y_value = rect.get_height()\n",
    "        x_value = rect.get_x() + rect.get_width() / 2\n",
    "\n",
    "        # Number of points between bar and label. Change to your liking.\n",
    "        space = 1\n",
    "        # Vertical alignment for positive values\n",
    "        va = 'bottom'\n",
    "\n",
    "        # Use Y value as label and format number with one decimal place\n",
    "        label = \"{:.0f}\".format(y_value)\n",
    "\n",
    "        # Create annotation\n",
    "        ax.annotate(\n",
    "            label,                      # Use `label` as label\n",
    "            (x_value, y_value),         # Place label at end of the bar\n",
    "            xytext=(0, space),          # Vertically shift label by `space`\n",
    "            textcoords=\"offset points\", # Interpret `xytext` as offset in points\n",
    "            ha='center',                # Horizontally center label\n",
    "            va=va)                      # Vertically align label differently for positive and negative values."
   ]
  },
  {
   "cell_type": "code",
   "execution_count": 25,
   "metadata": {},
   "outputs": [
    {
     "data": {
      "image/png": "[encoded data removed]",
      "text/plain": [
       "<Figure size 648x504 with 1 Axes>"
      ]
     },
     "metadata": {
      "needs_background": "light"
     },
     "output_type": "display_data"
    }
   ],
   "source": [
    "font = {'family': 'serif',\n",
    "        'color':  'black',\n",
    "        'weight': 'normal',\n",
    "        'size': 16,\n",
    "        }\n",
    "\n",
    "plot_data = data_imputed['Age'].value_counts()\n",
    "a = plot_data.plot(kind='bar', figsize=(9,7), colormap = 'Accent', stacked= True)\n",
    "\n",
    "# plt.legend(labels=ylabels,bbox_to_anchor =(1.05, 1.25), ncol = 3)\n",
    "add_value_labels(a)\n",
    "plt.title('Number of participants from different Age group',fontdict=font)\n",
    "plt.xlabel('Age')\n",
    "plt.ylabel('number of participants') \n",
    "# a.set_xticklabels(plot_data)\n",
    "#plt.savefig(\"rentyearbar.png\")\n",
    "plt.show()"
   ]
  },
  {
   "cell_type": "code",
   "execution_count": 28,
   "metadata": {},
   "outputs": [
    {
     "ename": "AttributeError",
     "evalue": "This method only works with the ScalarFormatter",
     "output_type": "error",
     "traceback": [
      "\u001b[1;31m---------------------------------------------------------------------------\u001b[0m",
      "\u001b[1;31mAttributeError\u001b[0m                            Traceback (most recent call last)",
      "\u001b[1;32m~\\AppData\\Roaming\\Python\\Python39\\site-packages\\matplotlib\\axes\\_base.py\u001b[0m in \u001b[0;36mticklabel_format\u001b[1;34m(self, axis, style, scilimits, useOffset, useLocale, useMathText)\u001b[0m\n\u001b[0;32m   3295\u001b[0m                 \u001b[1;32mif\u001b[0m \u001b[0museOffset\u001b[0m \u001b[1;32mis\u001b[0m \u001b[1;32mnot\u001b[0m \u001b[1;32mNone\u001b[0m\u001b[1;33m:\u001b[0m\u001b[1;33m\u001b[0m\u001b[1;33m\u001b[0m\u001b[0m\n\u001b[1;32m-> 3296\u001b[1;33m                     \u001b[0maxis\u001b[0m\u001b[1;33m.\u001b[0m\u001b[0mmajor\u001b[0m\u001b[1;33m.\u001b[0m\u001b[0mformatter\u001b[0m\u001b[1;33m.\u001b[0m\u001b[0mset_useOffset\u001b[0m\u001b[1;33m(\u001b[0m\u001b[0museOffset\u001b[0m\u001b[1;33m)\u001b[0m\u001b[1;33m\u001b[0m\u001b[1;33m\u001b[0m\u001b[0m\n\u001b[0m\u001b[0;32m   3297\u001b[0m                 \u001b[1;32mif\u001b[0m \u001b[0museLocale\u001b[0m \u001b[1;32mis\u001b[0m \u001b[1;32mnot\u001b[0m \u001b[1;32mNone\u001b[0m\u001b[1;33m:\u001b[0m\u001b[1;33m\u001b[0m\u001b[1;33m\u001b[0m\u001b[0m\n",
      "\u001b[1;31mAttributeError\u001b[0m: 'FuncFormatter' object has no attribute 'set_useOffset'",
      "\nThe above exception was the direct cause of the following exception:\n",
      "\u001b[1;31mAttributeError\u001b[0m                            Traceback (most recent call last)",
      "\u001b[1;32m~\\AppData\\Local\\Temp/ipykernel_7420/539879092.py\u001b[0m in \u001b[0;36m<module>\u001b[1;34m\u001b[0m\n\u001b[0;32m      8\u001b[0m \u001b[1;31m# plt.legend(labels=ylabels,bbox_to_anchor =(1.05, 1.25), ncol = 3)\u001b[0m\u001b[1;33m\u001b[0m\u001b[1;33m\u001b[0m\u001b[0m\n\u001b[0;32m      9\u001b[0m \u001b[0madd_value_labels\u001b[0m\u001b[1;33m(\u001b[0m\u001b[0ma\u001b[0m\u001b[1;33m)\u001b[0m\u001b[1;33m\u001b[0m\u001b[1;33m\u001b[0m\u001b[0m\n\u001b[1;32m---> 10\u001b[1;33m \u001b[0mplt\u001b[0m\u001b[1;33m.\u001b[0m\u001b[0mticklabel_format\u001b[0m\u001b[1;33m(\u001b[0m\u001b[0museOffset\u001b[0m\u001b[1;33m=\u001b[0m\u001b[1;32mFalse\u001b[0m\u001b[1;33m)\u001b[0m\u001b[1;33m\u001b[0m\u001b[1;33m\u001b[0m\u001b[0m\n\u001b[0m\u001b[0;32m     11\u001b[0m \u001b[0mplt\u001b[0m\u001b[1;33m.\u001b[0m\u001b[0mxlabel\u001b[0m\u001b[1;33m(\u001b[0m\u001b[1;34m'Experience'\u001b[0m\u001b[1;33m)\u001b[0m\u001b[1;33m\u001b[0m\u001b[1;33m\u001b[0m\u001b[0m\n\u001b[0;32m     12\u001b[0m \u001b[0mplt\u001b[0m\u001b[1;33m.\u001b[0m\u001b[0mylabel\u001b[0m\u001b[1;33m(\u001b[0m\u001b[1;34m'number of participants'\u001b[0m\u001b[1;33m)\u001b[0m\u001b[1;33m\u001b[0m\u001b[1;33m\u001b[0m\u001b[0m\n",
      "\u001b[1;32m~\\AppData\\Roaming\\Python\\Python39\\site-packages\\matplotlib\\pyplot.py\u001b[0m in \u001b[0;36mticklabel_format\u001b[1;34m(axis, style, scilimits, useOffset, useLocale, useMathText)\u001b[0m\n\u001b[0;32m   2939\u001b[0m         \u001b[1;33m*\u001b[0m\u001b[1;33m,\u001b[0m \u001b[0maxis\u001b[0m\u001b[1;33m=\u001b[0m\u001b[1;34m'both'\u001b[0m\u001b[1;33m,\u001b[0m \u001b[0mstyle\u001b[0m\u001b[1;33m=\u001b[0m\u001b[1;34m''\u001b[0m\u001b[1;33m,\u001b[0m \u001b[0mscilimits\u001b[0m\u001b[1;33m=\u001b[0m\u001b[1;32mNone\u001b[0m\u001b[1;33m,\u001b[0m \u001b[0museOffset\u001b[0m\u001b[1;33m=\u001b[0m\u001b[1;32mNone\u001b[0m\u001b[1;33m,\u001b[0m\u001b[1;33m\u001b[0m\u001b[1;33m\u001b[0m\u001b[0m\n\u001b[0;32m   2940\u001b[0m         useLocale=None, useMathText=None):\n\u001b[1;32m-> 2941\u001b[1;33m     return gca().ticklabel_format(\n\u001b[0m\u001b[0;32m   2942\u001b[0m         \u001b[0maxis\u001b[0m\u001b[1;33m=\u001b[0m\u001b[0maxis\u001b[0m\u001b[1;33m,\u001b[0m \u001b[0mstyle\u001b[0m\u001b[1;33m=\u001b[0m\u001b[0mstyle\u001b[0m\u001b[1;33m,\u001b[0m \u001b[0mscilimits\u001b[0m\u001b[1;33m=\u001b[0m\u001b[0mscilimits\u001b[0m\u001b[1;33m,\u001b[0m\u001b[1;33m\u001b[0m\u001b[1;33m\u001b[0m\u001b[0m\n\u001b[0;32m   2943\u001b[0m         \u001b[0museOffset\u001b[0m\u001b[1;33m=\u001b[0m\u001b[0museOffset\u001b[0m\u001b[1;33m,\u001b[0m \u001b[0museLocale\u001b[0m\u001b[1;33m=\u001b[0m\u001b[0museLocale\u001b[0m\u001b[1;33m,\u001b[0m\u001b[1;33m\u001b[0m\u001b[1;33m\u001b[0m\u001b[0m\n",
      "\u001b[1;32m~\\AppData\\Roaming\\Python\\Python39\\site-packages\\matplotlib\\axes\\_base.py\u001b[0m in \u001b[0;36mticklabel_format\u001b[1;34m(self, axis, style, scilimits, useOffset, useLocale, useMathText)\u001b[0m\n\u001b[0;32m   3300\u001b[0m                     \u001b[0maxis\u001b[0m\u001b[1;33m.\u001b[0m\u001b[0mmajor\u001b[0m\u001b[1;33m.\u001b[0m\u001b[0mformatter\u001b[0m\u001b[1;33m.\u001b[0m\u001b[0mset_useMathText\u001b[0m\u001b[1;33m(\u001b[0m\u001b[0museMathText\u001b[0m\u001b[1;33m)\u001b[0m\u001b[1;33m\u001b[0m\u001b[1;33m\u001b[0m\u001b[0m\n\u001b[0;32m   3301\u001b[0m         \u001b[1;32mexcept\u001b[0m \u001b[0mAttributeError\u001b[0m \u001b[1;32mas\u001b[0m \u001b[0merr\u001b[0m\u001b[1;33m:\u001b[0m\u001b[1;33m\u001b[0m\u001b[1;33m\u001b[0m\u001b[0m\n\u001b[1;32m-> 3302\u001b[1;33m             raise AttributeError(\n\u001b[0m\u001b[0;32m   3303\u001b[0m                 \"This method only works with the ScalarFormatter\") from err\n\u001b[0;32m   3304\u001b[0m \u001b[1;33m\u001b[0m\u001b[0m\n",
      "\u001b[1;31mAttributeError\u001b[0m: This method only works with the ScalarFormatter"
     ]
    },
    {
     "data": {
      "image/png": "[encoded data removed]",
      "text/plain": [
       "<Figure size 648x504 with 1 Axes>"
      ]
     },
     "metadata": {
      "needs_background": "light"
     },
     "output_type": "display_data"
    }
   ],
   "source": [
    "values = ['0 - 3 years', '4 - 9 years', '10 - 15 years', '15 years +']\n",
    "indx = range(len(values))\n",
    "\n",
    "plot_data = data_imputed['Experience'].value_counts()\n",
    "\n",
    "a = plot_data.plot(kind='bar', figsize=(9,7), colormap = 'Accent')  \n",
    "\n",
    "# plt.legend(labels=ylabels,bbox_to_anchor =(1.05, 1.25), ncol = 3)\n",
    "add_value_labels(a)\n",
    "plt.ticklabel_format(useOffset=False)\n",
    "plt.xlabel('Experience')\n",
    "plt.ylabel('number of participants')\n",
    "# a.set_xticks(indx,values)\n",
    "#plt.savefig(\"rentyearbar.png\")\n",
    "plt.show()"
   ]
  },
  {
   "cell_type": "code",
   "execution_count": 19,
   "metadata": {},
   "outputs": [
    {
     "data": {
      "image/png": "[encoded data removed]",
      "text/plain": [
       "<Figure size 432x288 with 1 Axes>"
      ]
     },
     "metadata": {},
     "output_type": "display_data"
    }
   ],
   "source": [
    "# Data to plot\n",
    "labels = data_imputed['industry'].unique()\n",
    "sizes = data_imputed['industry'].value_counts()\n",
    "colors = ['yellow', 'yellowgreen', 'lightcoral', 'lightskyblue', 'red', 'orange', 'ivory']\n",
    "explode = (0.1, 0, 0, 0, 0, 0, 0)  # explode 1st slice\n",
    "\n",
    "# Plot\n",
    "patches, percentage, text = plt.pie(sizes, explode = explode, colors=colors, autopct='%.0f%%', shadow=True, startangle=90, radius = 2)\n",
    "plt.legend(patches, labels, bbox_to_anchor=(1,0.3), loc=\"lower left\", fontsize=10,\n",
    "           bbox_transform=plt.gcf().transFigure)\n",
    "\n",
    "#plt.title('Monthly rent by year')\n",
    "plt.axis('equal')\n",
    "#plt.savefig(\"rentyearpie.png\")\n",
    "plt.show()"
   ]
  },
  {
   "cell_type": "code",
   "execution_count": null,
   "metadata": {},
   "outputs": [],
   "source": []
  }
 ],
 "metadata": {
  "interpreter": {
   "hash": "ac59ebe37160ed0dfa835113d9b8498d9f09ceb179beaac4002f036b9467c963"
  },
  "kernelspec": {
   "display_name": "Python 3.9.7 64-bit",
   "language": "python",
   "name": "python3"
  },
  "language_info": {
   "codemirror_mode": {
    "name": "ipython",
    "version": 3
   },
   "file_extension": ".py",
   "mimetype": "text/x-python",
   "name": "python",
   "nbconvert_exporter": "python",
   "pygments_lexer": "ipython3",
   "version": "3.9.7"
  },
  "orig_nbformat": 4
 },
 "nbformat": 4,
 "nbformat_minor": 2
}
